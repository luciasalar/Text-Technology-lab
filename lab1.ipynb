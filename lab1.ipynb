{
 "cells": [
  {
   "cell_type": "code",
   "execution_count": 1,
   "metadata": {
    "collapsed": true
   },
   "outputs": [],
   "source": [
    "import numpy as np\n",
    "import nltk\n",
    "from stop_words import get_stop_words\n",
    "from nltk.corpus import stopwords\n",
    "import re\n",
    "from nltk.stem.porter import *\n",
    "from collections import Counter\n",
    "from collections import defaultdict\n",
    "from matplotlib import pyplot as plt\n",
    "from scipy import special\n",
    "import operator"
   ]
  },
  {
   "cell_type": "markdown",
   "metadata": {},
   "source": [
    "read a file"
   ]
  },
  {
   "cell_type": "code",
   "execution_count": 2,
   "metadata": {
    "collapsed": true
   },
   "outputs": [],
   "source": [
    "stop_words = list(get_stop_words('en'))         #About 900 stopwords\n",
    "nltk_words = list(stopwords.words('english')) #About 150 stopwords"
   ]
  },
  {
   "cell_type": "code",
   "execution_count": 4,
   "metadata": {
    "collapsed": true
   },
   "outputs": [],
   "source": [
    "stemmer = PorterStemmer()"
   ]
  },
  {
   "cell_type": "code",
   "execution_count": 40,
   "metadata": {
    "collapsed": true
   },
   "outputs": [],
   "source": [
    "def preprocess(sent):\n",
    "    #tokenization\n",
    "    words = str(sent).split()\n",
    "    new_words = []\n",
    "    # ps = PorterStemmer()\n",
    "    for w in words:\n",
    "        #lowercase\n",
    "        w = w.lower()\n",
    "        # remove non English word characters\n",
    "       # w = re.sub(r'[^\\x00-\\x7F]+',' ', w)\n",
    "        # remove puncutation \n",
    "       # w = re.sub(r'[^\\w\\s]','',w)\n",
    "        #remove stopwords, you can change the stopwords list in here\n",
    "        if w not in stop_words:\n",
    "            w = stemmer.stem(w)\n",
    "            new_words.append(w)\n",
    "        \n",
    "    return ' '.join(new_words)"
   ]
  },
  {
   "cell_type": "code",
   "execution_count": 54,
   "metadata": {},
   "outputs": [],
   "source": [
    "\n",
    "with open ('bible.txt') as f:\n",
    "    bible = open(\"bible_processed.txt\", \"w\")\n",
    "    frequency = defaultdict(int)\n",
    "    for line in f:\n",
    "        newline = preprocess(line)                \n",
    "        #print (newline)\n",
    "        #bible.write(newline)\n",
    "        for w in newline.split():\n",
    "            frequency[w] += 1\n",
    "            #frequency_list = frequency.keys()\n",
    "\n",
    "            \n",
    "   "
   ]
  },
  {
   "cell_type": "code",
   "execution_count": 57,
   "metadata": {},
   "outputs": [
    {
     "name": "stdout",
     "output_type": "stream",
     "text": [
      "﻿the 1\n",
      "project 83\n",
      "gutenberg 25\n",
      "ebook 12\n",
      "king 2063\n",
      "jame 29\n",
      "bibl 8\n",
      "use 72\n",
      "anyon 4\n",
      "anywher 2\n",
      "cost 5\n"
     ]
    }
   ],
   "source": [
    "iterator = 0\n",
    "for key in frequency.keys():\n",
    "    print (key, frequency[key])\n",
    "    iterator = iterator + 1\n",
    "    if iterator > 10:\n",
    "        break"
   ]
  },
  {
   "cell_type": "code",
   "execution_count": 51,
   "metadata": {},
   "outputs": [],
   "source": [
    "from math import log\n",
    "word_and_rank = {key: rank for rank, key in enumerate(sorted(frequency, key=frequency.get, reverse=True), 1)}\n",
    "y = [log(frequency[x]) for x in sorted(frequency, key=frequency.get, reverse=True)]\n",
    "x = range(len(y))\n"
   ]
  },
  {
   "cell_type": "code",
   "execution_count": 52,
   "metadata": {},
   "outputs": [
    {
     "data": {
      "image/png": "[encoded data removed]",
      "text/plain": [
       "<matplotlib.figure.Figure at 0x1a1cb993c8>"
      ]
     },
     "metadata": {},
     "output_type": "display_data"
    }
   ],
   "source": [
    "plt.plot(x, y)\n",
    "plt.show()"
   ]
  },
  {
   "cell_type": "markdown",
   "metadata": {},
   "source": [
    "Plot the distribution of the first digit in frequences obtained and observe Beford's law. Try again while neglecting the one digit frequencies (frequencies less than 10), and check if the law still applies.\n"
   ]
  },
  {
   "cell_type": "code",
   "execution_count": 8,
   "metadata": {},
   "outputs": [
    {
     "data": {
      "text/plain": [
       "dict_keys([1, 8, 3, 2, 5, 7, 9, 4, 6])"
      ]
     },
     "execution_count": 8,
     "metadata": {},
     "output_type": "execute_result"
    }
   ],
   "source": [
    "#build a first digit dict\n",
    "firsts = []\n",
    "for i in f:\n",
    "    first = int(str(i)[:1])\n",
    "    firsts.append(first)\n",
    "fir = np.array(firsts)\n",
    "\n",
    "digit_freq = defaultdict(int)\n",
    "for d in fir:\n",
    "    digit_freq[d] += 1        \n",
    "\n",
    "digits = digit_freq.values()\n",
    "digit_freq.keys()"
   ]
  },
  {
   "cell_type": "code",
   "execution_count": 9,
   "metadata": {},
   "outputs": [
    {
     "data": {
      "text/plain": [
       "[296, 340, 470, 561, 729, 921, 1397, 2356, 6309]"
      ]
     },
     "execution_count": 9,
     "metadata": {},
     "output_type": "execute_result"
    }
   ],
   "source": [
    "sorted(digit_freq.values())"
   ]
  },
  {
   "cell_type": "code",
   "execution_count": 10,
   "metadata": {},
   "outputs": [
    {
     "data": {
      "text/plain": [
       "[(9, 296),\n",
       " (8, 340),\n",
       " (7, 470),\n",
       " (6, 561),\n",
       " (5, 729),\n",
       " (4, 921),\n",
       " (3, 1397),\n",
       " (2, 2356),\n",
       " (1, 6309)]"
      ]
     },
     "execution_count": 10,
     "metadata": {},
     "output_type": "execute_result"
    }
   ],
   "source": [
    "sorted_x = sorted(digit_freq.items(), key=operator.itemgetter(1))\n",
    "sorted_x"
   ]
  },
  {
   "cell_type": "code",
   "execution_count": 11,
   "metadata": {},
   "outputs": [
    {
     "data": {
      "text/plain": [
       "([9, 8, 7, 6, 5, 4, 3, 2, 1], [296, 340, 470, 561, 729, 921, 1397, 2356, 6309])"
      ]
     },
     "execution_count": 11,
     "metadata": {},
     "output_type": "execute_result"
    }
   ],
   "source": [
    "x = [k for k, _ in sorted_x]\n",
    "y = [v for _, v in sorted_x]\n",
    "x,y"
   ]
  },
  {
   "cell_type": "code",
   "execution_count": 12,
   "metadata": {},
   "outputs": [
    {
     "data": {
      "image/png": "[encoded data removed]",
      "text/plain": [
       "<matplotlib.figure.Figure at 0x1a1020c6d8>"
      ]
     },
     "metadata": {},
     "output_type": "display_data"
    }
   ],
   "source": [
    "plt.plot(x, y)\n",
    "plt.show()"
   ]
  },
  {
   "cell_type": "code",
   "execution_count": null,
   "metadata": {
    "collapsed": true
   },
   "outputs": [],
   "source": [
    "#heaps law"
   ]
  },
  {
   "cell_type": "code",
   "execution_count": 229,
   "metadata": {
    "collapsed": true
   },
   "outputs": [],
   "source": [
    "def heaps_law(file):\n",
    "    with open (file) as f:\n",
    "        frequency = defaultdict(int)\n",
    "        uniq = set()\n",
    "        for line in f:\n",
    "            newline = preprocess(line)                \n",
    "            for i, token in enumerate(newline.split()):\n",
    "                uniq.add(token)\n",
    "                print (i, len(uniq))"
   ]
  },
  {
   "cell_type": "code",
   "execution_count": null,
   "metadata": {
    "collapsed": true
   },
   "outputs": [],
   "source": []
  },
  {
   "cell_type": "code",
   "execution_count": null,
   "metadata": {
    "collapsed": true
   },
   "outputs": [],
   "source": []
  },
  {
   "cell_type": "code",
   "execution_count": null,
   "metadata": {
    "collapsed": true
   },
   "outputs": [],
   "source": []
  },
  {
   "cell_type": "code",
   "execution_count": null,
   "metadata": {
    "collapsed": true
   },
   "outputs": [],
   "source": []
  },
  {
   "cell_type": "code",
   "execution_count": null,
   "metadata": {
    "collapsed": true
   },
   "outputs": [],
   "source": []
  }
 ],
 "metadata": {
  "kernelspec": {
   "display_name": "Python 3",
   "language": "python",
   "name": "python3"
  },
  "language_info": {
   "codemirror_mode": {
    "name": "ipython",
    "version": 3
   },
   "file_extension": ".py",
   "mimetype": "text/x-python",
   "name": "python",
   "nbconvert_exporter": "python",
   "pygments_lexer": "ipython3",
   "version": "3.6.1"
  }
 },
 "nbformat": 4,
 "nbformat_minor": 2
}

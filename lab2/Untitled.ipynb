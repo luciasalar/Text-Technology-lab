{
 "cells": [
  {
   "cell_type": "code",
   "execution_count": 1,
   "metadata": {
    "collapsed": true
   },
   "outputs": [],
   "source": [
    "import numpy as np\n",
    "import nltk\n",
    "from stop_words import get_stop_words\n",
    "from nltk.corpus import stopwords\n",
    "import re\n",
    "from nltk.stem.porter import *\n",
    "from collections import Counter\n",
    "from collections import defaultdict\n",
    "from matplotlib import pyplot as plt\n",
    "from collections import Counter\n",
    "import string\n",
    "import pandas as pd\n",
    "import xml.etree.ElementTree as ET"
   ]
  },
  {
   "cell_type": "code",
   "execution_count": null,
   "metadata": {
    "collapsed": true
   },
   "outputs": [],
   "source": [
    "class search_engine:\n",
    "    \n",
    "    def __init__(self, corpora):\n",
    "        self.pos_ii = self.get....();\n",
    "    \n",
    "    def search(words):\n",
    "    #...\n",
    "    #result = self.pos_ii[word]\n",
    "        \n",
    "    #return list of words\n",
    "    def preprocess(sent):\n",
    "        stop_words = list(get_stop_words('en'))         #About 900 stopwords\n",
    "        stemmer = PorterStemmer()\n",
    "        #tokenization\n",
    "        words = str(sent).split()\n",
    "        new_words = []\n",
    "        for w in words:\n",
    "            #lowercase\n",
    "            w = w.lower()\n",
    "            #remove punctuaction, fast\n",
    "            table = str.maketrans({key: None for key in string.punctuation})\n",
    "            w = w.translate(table)\n",
    "            #remove stopwords, you can change the stopwords list in here\n",
    "            if w not in stop_words:\n",
    "                w = stemmer.stem(w)\n",
    "                new_words.append(w)\n",
    "\n",
    "        return new_words\n",
    "\n",
    "    def get_postion(line):\n",
    "    pos_list = {}\n",
    "    newline = preprocess(line)\n",
    "    for position, w in enumerate(newline):   \n",
    "        #print(w, position)\n",
    "        if w not in pos_list:\n",
    "            # pos_list[w] = []\n",
    "            # pos_list[w].append(position)\n",
    "            pos_list[w] = [position]\n",
    "            \n",
    "        else:\n",
    "            pos_list[w].append(position)\n",
    "    return pos_list\n",
    "\n",
    "        \n",
    "    def postion_list(file):\n",
    "        with open(file) as f:\n",
    "            postion_l ={}\n",
    "            id_num = None\n",
    "            for line in f:\n",
    "                line = line.strip() # remove beginning and trailing whitespaces\n",
    "                if \"ID: \" in line:\n",
    "                    line = line.replace(\"ID: \", \"\")\n",
    "                    id_num = str(line)\n",
    "                else:\n",
    "                    #term_freq_list[id_num] = count_freq(line)\n",
    "                    postion_l[id_num]= get_postion(line)\n",
    "            return postion_l\n",
    "\n",
    "    p_l = postion_list('././collections/sample.txt')\n",
    "\n"
   ]
  },
  {
   "cell_type": "code",
   "execution_count": 2,
   "metadata": {},
   "outputs": [
    {
     "ename": "NameError",
     "evalue": "name 'preprocess' is not defined",
     "output_type": "error",
     "traceback": [
      "\u001b[0;31m---------------------------------------------------------------------------\u001b[0m",
      "\u001b[0;31mNameError\u001b[0m                                 Traceback (most recent call last)",
      "\u001b[0;32m<ipython-input-2-f9472ded09f5>\u001b[0m in \u001b[0;36m<module>\u001b[0;34m()\u001b[0m\n\u001b[1;32m     28\u001b[0m         \u001b[0;32mreturn\u001b[0m \u001b[0mpostion_l\u001b[0m\u001b[0;34m\u001b[0m\u001b[0m\n\u001b[1;32m     29\u001b[0m \u001b[0;34m\u001b[0m\u001b[0m\n\u001b[0;32m---> 30\u001b[0;31m \u001b[0mp_l\u001b[0m \u001b[0;34m=\u001b[0m \u001b[0mpostion_list\u001b[0m\u001b[0;34m(\u001b[0m\u001b[0;34m'././collections/sample.txt'\u001b[0m\u001b[0;34m)\u001b[0m\u001b[0;34m\u001b[0m\u001b[0m\n\u001b[0m",
      "\u001b[0;32m<ipython-input-2-f9472ded09f5>\u001b[0m in \u001b[0;36mpostion_list\u001b[0;34m(file)\u001b[0m\n\u001b[1;32m     25\u001b[0m             \u001b[0;32melse\u001b[0m\u001b[0;34m:\u001b[0m\u001b[0;34m\u001b[0m\u001b[0m\n\u001b[1;32m     26\u001b[0m                 \u001b[0;31m#term_freq_list[id_num] = count_freq(line)\u001b[0m\u001b[0;34m\u001b[0m\u001b[0;34m\u001b[0m\u001b[0m\n\u001b[0;32m---> 27\u001b[0;31m                 \u001b[0mpostion_l\u001b[0m\u001b[0;34m[\u001b[0m\u001b[0mid_num\u001b[0m\u001b[0;34m]\u001b[0m\u001b[0;34m=\u001b[0m \u001b[0mget_postion\u001b[0m\u001b[0;34m(\u001b[0m\u001b[0mline\u001b[0m\u001b[0;34m)\u001b[0m\u001b[0;34m\u001b[0m\u001b[0m\n\u001b[0m\u001b[1;32m     28\u001b[0m         \u001b[0;32mreturn\u001b[0m \u001b[0mpostion_l\u001b[0m\u001b[0;34m\u001b[0m\u001b[0m\n\u001b[1;32m     29\u001b[0m \u001b[0;34m\u001b[0m\u001b[0m\n",
      "\u001b[0;32m<ipython-input-2-f9472ded09f5>\u001b[0m in \u001b[0;36mget_postion\u001b[0;34m(line)\u001b[0m\n\u001b[1;32m      1\u001b[0m \u001b[0;32mdef\u001b[0m \u001b[0mget_postion\u001b[0m\u001b[0;34m(\u001b[0m\u001b[0mline\u001b[0m\u001b[0;34m)\u001b[0m\u001b[0;34m:\u001b[0m\u001b[0;34m\u001b[0m\u001b[0m\n\u001b[1;32m      2\u001b[0m     \u001b[0mpos_list\u001b[0m \u001b[0;34m=\u001b[0m \u001b[0;34m{\u001b[0m\u001b[0;34m}\u001b[0m\u001b[0;34m\u001b[0m\u001b[0m\n\u001b[0;32m----> 3\u001b[0;31m     \u001b[0mnewline\u001b[0m \u001b[0;34m=\u001b[0m \u001b[0mpreprocess\u001b[0m\u001b[0;34m(\u001b[0m\u001b[0mline\u001b[0m\u001b[0;34m)\u001b[0m\u001b[0;34m\u001b[0m\u001b[0m\n\u001b[0m\u001b[1;32m      4\u001b[0m     \u001b[0;32mfor\u001b[0m \u001b[0mposition\u001b[0m\u001b[0;34m,\u001b[0m \u001b[0mw\u001b[0m \u001b[0;32min\u001b[0m \u001b[0menumerate\u001b[0m\u001b[0;34m(\u001b[0m\u001b[0mnewline\u001b[0m\u001b[0;34m)\u001b[0m\u001b[0;34m:\u001b[0m\u001b[0;34m\u001b[0m\u001b[0m\n\u001b[1;32m      5\u001b[0m         \u001b[0;31m#print(w, position)\u001b[0m\u001b[0;34m\u001b[0m\u001b[0;34m\u001b[0m\u001b[0m\n",
      "\u001b[0;31mNameError\u001b[0m: name 'preprocess' is not defined"
     ]
    }
   ],
   "source": [
    "def get_postion(line):\n",
    "    pos_list = {}\n",
    "    newline = preprocess(line)\n",
    "    for position, w in enumerate(newline):   \n",
    "        #print(w, position)\n",
    "        if w not in pos_list:\n",
    "            # pos_list[w] = []\n",
    "            # pos_list[w].append(position)\n",
    "            pos_list[w] = [position]\n",
    "            \n",
    "        else:\n",
    "            pos_list[w].append(position)\n",
    "    return pos_list\n",
    "\n",
    "        \n",
    "def postion_list(file):\n",
    "    with open(file) as f:\n",
    "        postion_l ={}\n",
    "        id_num = None\n",
    "        for line in f:\n",
    "            line = line.strip() # remove beginning and trailing whitespaces\n",
    "            if \"ID: \" in line:\n",
    "                line = line.replace(\"ID: \", \"\")\n",
    "                id_num = str(line)\n",
    "            else:\n",
    "                #term_freq_list[id_num] = count_freq(line)\n",
    "                postion_l[id_num]= get_postion(line)\n",
    "        return postion_l\n",
    "\n",
    "p_l = postion_list('././collections/sample.txt')"
   ]
  },
  {
   "cell_type": "code",
   "execution_count": null,
   "metadata": {
    "collapsed": true
   },
   "outputs": [],
   "source": []
  }
 ],
 "metadata": {
  "kernelspec": {
   "display_name": "Python 3",
   "language": "python",
   "name": "python3"
  },
  "language_info": {
   "codemirror_mode": {
    "name": "ipython",
    "version": 3
   },
   "file_extension": ".py",
   "mimetype": "text/x-python",
   "name": "python",
   "nbconvert_exporter": "python",
   "pygments_lexer": "ipython3",
   "version": "3.6.1"
  }
 },
 "nbformat": 4,
 "nbformat_minor": 2
}

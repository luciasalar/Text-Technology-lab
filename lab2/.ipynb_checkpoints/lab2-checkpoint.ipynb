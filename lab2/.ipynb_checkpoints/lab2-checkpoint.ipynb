{
 "cells": [
  {
   "cell_type": "code",
   "execution_count": 40,
   "metadata": {},
   "outputs": [],
   "source": [
    "import numpy as np\n",
    "import nltk\n",
    "from stop_words import get_stop_words\n",
    "from nltk.corpus import stopwords\n",
    "import re\n",
    "from nltk.stem.porter import *\n",
    "from collections import Counter\n",
    "from collections import defaultdict\n",
    "from matplotlib import pyplot as plt\n",
    "from collections import Counter\n",
    "import string\n",
    "import pandas as pd\n",
    "from sklearn.feature_extraction.text import CountVectorizer\n",
    "\n",
    "\n"
   ]
  },
  {
   "cell_type": "code",
   "execution_count": null,
   "metadata": {
    "collapsed": true
   },
   "outputs": [],
   "source": []
  },
  {
   "cell_type": "code",
   "execution_count": 31,
   "metadata": {
    "collapsed": true
   },
   "outputs": [],
   "source": [
    "#return list of words\n",
    "def preprocess(sent):\n",
    "    stop_words = list(get_stop_words('en'))         #About 900 stopwords\n",
    "    stemmer = PorterStemmer()\n",
    "    #tokenization\n",
    "    words = str(sent).split()\n",
    "    new_words = []\n",
    "    for w in words:\n",
    "        #lowercase\n",
    "        w = w.lower()\n",
    "        #remove punctuaction, fast\n",
    "        table = str.maketrans({key: None for key in string.punctuation})\n",
    "        w = w.translate(table)\n",
    "        #remove stopwords, you can change the stopwords list in here\n",
    "        if w not in stop_words:\n",
    "            w = stemmer.stem(w)\n",
    "            new_words.append(w)\n",
    "        \n",
    "    return new_words"
   ]
  },
  {
   "cell_type": "code",
   "execution_count": 32,
   "metadata": {},
   "outputs": [
    {
     "name": "stdout",
     "output_type": "stream",
     "text": [
      "['id', '1']\n",
      "['text', 'like', 'wink', 'like', 'drink']\n",
      "['id', '2']\n",
      "['text', 'like', 'drink', 'drink', 'drink']\n",
      "['id', '3']\n",
      "['text', 'thing', 'like', 'drink', 'ink']\n",
      "['id', '4']\n",
      "['text', 'ink', 'like', 'drink', 'pink']\n",
      "['id', '5']\n",
      "['text', 'like', 'wink', 'drink', 'pink', 'ink']\n",
      "Counter({'text': 1, 'like': 1, 'wink': 1, 'drink': 1, 'pink': 1, 'ink': 1})\n"
     ]
    }
   ],
   "source": [
    "#return  key:count\n",
    "with open('/Users/lucia/phd_work/Text_tech/lab2/collections/sample.txt') as f:\n",
    "    for line in f:\n",
    "        newline = preprocess(line)  \n",
    "        print (newline)\n",
    "        mycount = Counter(newline)\n",
    "    print(mycount)\n",
    "    "
   ]
  },
  {
   "cell_type": "code",
   "execution_count": 41,
   "metadata": {},
   "outputs": [
    {
     "name": "stdout",
     "output_type": "stream",
     "text": [
      "   drink  ink  like  pink  text  wink\n",
      "0      0    0     0     0     1     0\n",
      "1      0    0     1     0     0     0\n",
      "2      0    0     0     0     0     1\n",
      "3      1    0     0     0     0     0\n",
      "4      0    0     0     1     0     0\n",
      "5      0    1     0     0     0     0\n"
     ]
    }
   ],
   "source": [
    "# term (pre-processed) and its document frequency \n",
    "vec = CountVectorizer()\n",
    "processed = vec.fit_transform(newline)\n",
    "df = pd.DataFrame(processed .toarray(), columns=vec.get_feature_names())\n",
    "print(df)"
   ]
  },
  {
   "cell_type": "code",
   "execution_count": null,
   "metadata": {
    "collapsed": true
   },
   "outputs": [],
   "source": []
  },
  {
   "cell_type": "code",
   "execution_count": null,
   "metadata": {
    "collapsed": true
   },
   "outputs": [],
   "source": []
  },
  {
   "cell_type": "code",
   "execution_count": null,
   "metadata": {
    "collapsed": true
   },
   "outputs": [],
   "source": []
  }
 ],
 "metadata": {
  "kernelspec": {
   "display_name": "Python 3",
   "language": "python",
   "name": "python3"
  },
  "language_info": {
   "codemirror_mode": {
    "name": "ipython",
    "version": 3
   },
   "file_extension": ".py",
   "mimetype": "text/x-python",
   "name": "python",
   "nbconvert_exporter": "python",
   "pygments_lexer": "ipython3",
   "version": "3.6.1"
  }
 },
 "nbformat": 4,
 "nbformat_minor": 2
}

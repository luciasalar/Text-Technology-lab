{
 "cells": [
  {
   "cell_type": "code",
   "execution_count": 40,
   "metadata": {},
   "outputs": [],
   "source": [
    "import numpy as np\n",
    "import nltk\n",
    "from stop_words import get_stop_words\n",
    "from nltk.corpus import stopwords\n",
    "import re\n",
    "from nltk.stem.porter import *\n",
    "from collections import Counter\n",
    "from collections import defaultdict\n",
    "from matplotlib import pyplot as plt\n",
    "from collections import Counter\n",
    "import string\n",
    "import pandas as pd\n",
    "from sklearn.feature_extraction.text import CountVectorizer\n",
    "\n",
    "\n"
   ]
  },
  {
   "cell_type": "code",
   "execution_count": null,
   "metadata": {
    "collapsed": true
   },
   "outputs": [],
   "source": []
  },
  {
   "cell_type": "code",
   "execution_count": 58,
   "metadata": {
    "collapsed": true
   },
   "outputs": [],
   "source": [
    "#return list of words\n",
    "def preprocess(sent):\n",
    "    stop_words = list(get_stop_words('en'))         #About 900 stopwords\n",
    "    stemmer = PorterStemmer()\n",
    "    #tokenization\n",
    "    words = str(sent).split()\n",
    "    new_words = []\n",
    "    for w in words:\n",
    "        #lowercase\n",
    "        w = w.lower()\n",
    "        #remove punctuaction, fast\n",
    "        table = str.maketrans({key: None for key in string.punctuation})\n",
    "        w = w.translate(table)\n",
    "        #remove stopwords, you can change the stopwords list in here\n",
    "        if w not in stop_words:\n",
    "            w = stemmer.stem(w)\n",
    "            new_words.append(w)\n",
    "        \n",
    "    return ' '.join(new_words)"
   ]
  },
  {
   "cell_type": "code",
   "execution_count": 65,
   "metadata": {},
   "outputs": [
    {
     "name": "stdout",
     "output_type": "stream",
     "text": [
      "   drink  id  ink  like  pink  text  thing  wink\n",
      "0      0   1    0     0     0     0      0     0\n",
      "1      1   0    0     2     0     1      0     1\n",
      "2      0   1    0     0     0     0      0     0\n",
      "3      3   0    0     1     0     1      0     0\n",
      "4      0   1    0     0     0     0      0     0\n",
      "5      1   0    1     1     0     1      1     0\n",
      "6      0   1    0     0     0     0      0     0\n",
      "7      1   0    1     1     1     1      0     0\n",
      "8      0   1    0     0     0     0      0     0\n",
      "9      1   0    1     1     1     1      0     1\n"
     ]
    }
   ],
   "source": [
    "#return  key:count\n",
    "with open('/Users/lucia/phd_work/Text_tech/lab2/collections/sample.txt') as f:\n",
    "    l = []\n",
    "    for line in f:\n",
    "        newline = preprocess(line)  \n",
    "        #print (newline)\n",
    "        l.append(newline)\n",
    "        vec = CountVectorizer()\n",
    "        processed = vec.fit_transform(l)\n",
    "    df = pd.DataFrame(processed .toarray(), columns=vec.get_feature_names())\n",
    "    print(df)\n",
    "     #   mycount = Counter(newline)\n",
    "    #print(mycount)\n",
    "    "
   ]
  },
  {
   "cell_type": "code",
   "execution_count": 62,
   "metadata": {},
   "outputs": [
    {
     "name": "stdout",
     "output_type": "stream",
     "text": [
      "   drink  ink  like  pink  text  wink\n",
      "0      1    1     1     1     1     1\n"
     ]
    }
   ],
   "source": [
    "# term (pre-processed) and its document frequency \n",
    "vec = CountVectorizer()\n",
    "processed = vec.fit_transform([newline])\n",
    "df = pd.DataFrame(processed .toarray(), columns=vec.get_feature_names())\n",
    "print(df)"
   ]
  },
  {
   "cell_type": "code",
   "execution_count": null,
   "metadata": {
    "collapsed": true
   },
   "outputs": [],
   "source": [
    "#list of documents where this term occured "
   ]
  },
  {
   "cell_type": "code",
   "execution_count": 57,
   "metadata": {},
   "outputs": [
    {
     "name": "stdout",
     "output_type": "stream",
     "text": [
      "defaultdict(<class 'list'>, {'ID:': [0, 2, 4, 6, 8], '1': [0], 'TEXT:': [1, 3, 5, 7, 9], 'He': [1, 3, 9], 'likes': [1, 1, 3, 5, 7, 9], 'to': [1, 1, 3, 5, 7, 9], 'wink,': [1, 9], 'he': [1, 5, 7], 'drink': [1, 3, 5, 7, 9], '2': [2], 'drink,': [3, 3], 'and': [3, 3, 9], '3': [4], 'The': [5, 7], 'thing': [5], 'is': [5, 7], 'ink': [5, 7, 9], '4': [6], 'pink': [7, 9], '5': [8]})\n"
     ]
    }
   ],
   "source": [
    "with open('/Users/lucia/phd_work/Text_tech/lab2/collections/sample.txt') as f:\n",
    "    inv_indx = defaultdict(list)\n",
    "    for idx, text in enumerate(f):\n",
    "        #print(idx,text.split())\n",
    "        for word in text.split():\n",
    "            inv_indx[word].append(idx)\n",
    "    print(inv_indx)"
   ]
  },
  {
   "cell_type": "code",
   "execution_count": null,
   "metadata": {
    "collapsed": true
   },
   "outputs": [],
   "source": []
  },
  {
   "cell_type": "code",
   "execution_count": null,
   "metadata": {
    "collapsed": true
   },
   "outputs": [],
   "source": []
  }
 ],
 "metadata": {
  "kernelspec": {
   "display_name": "Python 3",
   "language": "python",
   "name": "python3"
  },
  "language_info": {
   "codemirror_mode": {
    "name": "ipython",
    "version": 3
   },
   "file_extension": ".py",
   "mimetype": "text/x-python",
   "name": "python",
   "nbconvert_exporter": "python",
   "pygments_lexer": "ipython3",
   "version": "3.6.1"
  }
 },
 "nbformat": 4,
 "nbformat_minor": 2
}

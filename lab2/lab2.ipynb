{
 "cells": [
  {
   "cell_type": "code",
   "execution_count": 57,
   "metadata": {
    "collapsed": true
   },
   "outputs": [],
   "source": [
    "import numpy as np\n",
    "import nltk\n",
    "from stop_words import get_stop_words\n",
    "from nltk.corpus import stopwords\n",
    "import re\n",
    "from nltk.stem.porter import *\n",
    "from collections import Counter\n",
    "from collections import defaultdict\n",
    "from matplotlib import pyplot as plt\n",
    "from collections import Counter\n",
    "import string\n",
    "import pandas as pd\n",
    "import xml.etree.ElementTree as ET"
   ]
  },
  {
   "cell_type": "markdown",
   "metadata": {},
   "source": [
    "Can't read the XML file"
   ]
  },
  {
   "cell_type": "code",
   "execution_count": 60,
   "metadata": {},
   "outputs": [],
   "source": [
    "\n",
    "#mydoc = minidom.parse('././collections/sample.xml')\n",
    "# with open('././collections/sample.xml') as f:\n",
    "#     for line in f:\n",
    "#         #print (line)\n",
    "#         xmltree = parseString(line)\n",
    "\n"
   ]
  },
  {
   "cell_type": "code",
   "execution_count": 111,
   "metadata": {
    "collapsed": true
   },
   "outputs": [],
   "source": [
    "#return list of words\n",
    "def preprocess(sent):\n",
    "    stop_words = list(get_stop_words('en'))         #About 900 stopwords\n",
    "    stemmer = PorterStemmer()\n",
    "    #tokenization\n",
    "    words = str(sent).split()\n",
    "    new_words = []\n",
    "    for w in words:\n",
    "        #lowercase\n",
    "        w = w.lower()\n",
    "        #remove punctuaction, fast\n",
    "        table = str.maketrans({key: None for key in string.punctuation})\n",
    "        w = w.translate(table)\n",
    "        #remove stopwords, you can change the stopwords list in here\n",
    "        if w not in stop_words:\n",
    "            w = stemmer.stem(w)\n",
    "            new_words.append(w)\n",
    "        \n",
    "    return new_words"
   ]
  },
  {
   "cell_type": "markdown",
   "metadata": {},
   "source": [
    "term_freq and its document freq    "
   ]
  },
  {
   "cell_type": "code",
   "execution_count": 118,
   "metadata": {},
   "outputs": [
    {
     "data": {
      "text/plain": [
       "{'1': Counter({'drink': 1, 'like': 2, 'text': 1, 'wink': 1}),\n",
       " '2': Counter({'drink': 3, 'like': 1, 'text': 1}),\n",
       " '3': Counter({'drink': 1, 'ink': 1, 'like': 1, 'text': 1, 'thing': 1}),\n",
       " '4': Counter({'drink': 1, 'ink': 1, 'like': 1, 'pink': 1, 'text': 1}),\n",
       " '5': Counter({'drink': 1,\n",
       "          'ink': 1,\n",
       "          'like': 1,\n",
       "          'pink': 1,\n",
       "          'text': 1,\n",
       "          'wink': 1})}"
      ]
     },
     "execution_count": 118,
     "metadata": {},
     "output_type": "execute_result"
    }
   ],
   "source": [
    "#return doc{word:freq}\n",
    "def term_freq_line_nick(line):\n",
    "    newline = preprocess(line)  \n",
    "    term_freq = {}\n",
    "    for w in newline:\n",
    "        if w not in term_freq:\n",
    "            term_freq[w] = 0\n",
    "        else:\n",
    "            term_freq[w] = term_freq[w] + 1\n",
    "    return term_freq\n",
    "\n",
    "def term_freq_line(line):\n",
    "    newline = preprocess(line)  \n",
    "    term_freq = defaultdict(int)\n",
    "    for w in newline:\n",
    "        term_freq[w] += 1\n",
    "    return term_freq\n",
    "\n",
    "def count_freq(line):\n",
    "    wordcount = Counter(preprocess(line))\n",
    "    return wordcount\n",
    "    \n",
    "#term_freq and its document freq    \n",
    "def term_freq(file):\n",
    "    term_freq_list = {}\n",
    "    with open(file) as f:\n",
    "\n",
    "        id_num = None\n",
    "        for line in f:\n",
    "            line = line.strip() # remove beginning and trailing whitespaces\n",
    "            if \"ID: \" in line:\n",
    "                line = line.replace(\"ID: \", \"\")\n",
    "                id_num = str(line)\n",
    "            else:\n",
    "                term_freq_list[id_num] = count_freq(line)\n",
    "                #term_freq_list.append((id_num, term_freq_line(line)))\n",
    "        return term_freq_list\n",
    "\n",
    "term_freq('././collections/sample.txt')   "
   ]
  },
  {
   "cell_type": "markdown",
   "metadata": {},
   "source": [
    "get list of documents where this term occured "
   ]
  },
  {
   "cell_type": "code",
   "execution_count": 188,
   "metadata": {},
   "outputs": [
    {
     "data": {
      "text/plain": [
       "{'drink': '5',\n",
       " 'ink': '5',\n",
       " 'like': '5',\n",
       " 'pink': '5',\n",
       " 'text': '5',\n",
       " 'thing': '3',\n",
       " 'wink': '5'}"
      ]
     },
     "execution_count": 188,
     "metadata": {},
     "output_type": "execute_result"
    }
   ],
   "source": [
    "#term: doc1, doc2\n",
    "    \n",
    "\n",
    "#why it doesnt store all the words\n",
    "def term_doc(file):\n",
    "    term_doc = {}\n",
    "    with open(file) as f:\n",
    "\n",
    "        id_num = None\n",
    "        l = []\n",
    "        for line in f:\n",
    "            line = line.strip() # remove beginning and trailing whitespaces\n",
    "            if \"ID: \" in line:\n",
    "                line = line.replace(\"ID: \", \"\")\n",
    "                id_num = str(line)\n",
    "            else:\n",
    "                p = preprocess(line)\n",
    "                for w in p:\n",
    "                    term_doc[w] = id_num\n",
    "                    \n",
    "\n",
    "#         for id_n,line in enumerate(l,1):\n",
    "#             print(id_n,line)\n",
    "#             for w in line:\n",
    "#                 term_doc[w] = id_n\n",
    "\n",
    "                #term_freq_list[id_num] = count_freq(line)\n",
    "                #term_freq_list.append((id_num, term_freq_line(line)))\n",
    "        return term_doc\n",
    "    \n",
    "\n",
    "term_doc('././collections/sample.txt')  \n"
   ]
  },
  {
   "cell_type": "markdown",
   "metadata": {},
   "source": [
    "get position list"
   ]
  },
  {
   "cell_type": "code",
   "execution_count": 224,
   "metadata": {},
   "outputs": [],
   "source": [
    "def get_postion(line):\n",
    "    pos_list = {}\n",
    "    newline = preprocess(line)\n",
    "    for position, w in enumerate(newline):   \n",
    "        #print(w, position)\n",
    "        if w not in pos_list:\n",
    "            pos_list[w] = [position]\n",
    "        else:\n",
    "            pos_list[w].append(position)\n",
    "    return pos_list\n",
    "\n",
    "        \n",
    "def postion_list(file):\n",
    "    with open(file) as f:\n",
    "        postion_l ={}\n",
    "        id_num = None\n",
    "        for line in f:\n",
    "            line = line.strip() # remove beginning and trailing whitespaces\n",
    "            if \"ID: \" in line:\n",
    "                line = line.replace(\"ID: \", \"\")\n",
    "                id_num = str(line)\n",
    "            else:\n",
    "                #term_freq_list[id_num] = count_freq(line)\n",
    "                postion_l[id_num]= get_postion(line)\n",
    "        return postion_l\n",
    "\n",
    "p_l = postion_list('././collections/sample.txt')"
   ]
  },
  {
   "cell_type": "code",
   "execution_count": null,
   "metadata": {
    "collapsed": true
   },
   "outputs": [],
   "source": [
    "##combine values in key as list"
   ]
  },
  {
   "cell_type": "code",
   "execution_count": 226,
   "metadata": {},
   "outputs": [
    {
     "data": {
      "text/plain": [
       "{'1': {'drink': [4], 'like': [1, 3], 'text': [0], 'wink': [2]},\n",
       " '2': {'drink': [2, 3, 4], 'like': [1], 'text': [0]},\n",
       " '3': {'drink': [3], 'ink': [4], 'like': [2], 'text': [0], 'thing': [1]},\n",
       " '4': {'drink': [3], 'ink': [1], 'like': [2], 'pink': [4], 'text': [0]},\n",
       " '5': {'drink': [3],\n",
       "  'ink': [5],\n",
       "  'like': [1],\n",
       "  'pink': [4],\n",
       "  'text': [0],\n",
       "  'wink': [2]}}"
      ]
     },
     "execution_count": 226,
     "metadata": {},
     "output_type": "execute_result"
    }
   ],
   "source": [
    "p_l "
   ]
  },
  {
   "cell_type": "code",
   "execution_count": 230,
   "metadata": {},
   "outputs": [
    {
     "name": "stdout",
     "output_type": "stream",
     "text": [
      "{'text': {'2': [0], '3': [0], '4': [0], '5': [0]}, 'like': {'1': [3], '2': [1], '3': [2], '4': [2], '5': [1]}, 'wink': {'5': [2]}, 'drink': {'2': [2, 3, 4], '3': [3], '4': [3], '5': [3]}, 'thing': {}, 'ink': {'4': [1], '5': [5]}, 'pink': {'5': [4]}}\n",
      "4\n"
     ]
    }
   ],
   "source": [
    "def get_inverted_list(line, document_number, pos_ii):\n",
    "    line = preprocess(line)\n",
    "    for position, word in enumerate(line):\n",
    "        if word in pos_ii:\n",
    "            if document_number in pos_ii[word]:\n",
    "                pos_ii[word][document_number].append(position)\n",
    "            else:\n",
    "                pos_ii[word][document_number] = [position]\n",
    "        else:\n",
    "            pos_ii[word] = {}\n",
    "    return pos_ii\n",
    "\n",
    "def produce_ii(file):\n",
    "    pos_ii = {}\n",
    "    with open(file) as f:\n",
    "        postion_l ={}\n",
    "        id_num = None\n",
    "        for line in f:\n",
    "            line = line.strip() # remove beginning and trailing whitespaces\n",
    "            if \"ID: \" in line:\n",
    "                line = line.replace(\"ID: \", \"\")\n",
    "                id_num = str(line)\n",
    "            else:\n",
    "                #term_freq_list[id_num] = count_freq(line)\n",
    "                pos_ii = get_inverted_list(line, id_num, pos_ii)\n",
    "        return pos_ii\n",
    "\n",
    "pos_ii = produce_ii('././collections/sample.txt')\n",
    "print(pos_ii)\n",
    "print(len(pos_ii['text'].keys()))\n",
    " \n",
    "words = 'pink'\n",
    "words2 = 'ink'\n",
    "\n"
   ]
  },
  {
   "cell_type": "code",
   "execution_count": null,
   "metadata": {
    "collapsed": true
   },
   "outputs": [],
   "source": [
    "######"
   ]
  },
  {
   "cell_type": "code",
   "execution_count": null,
   "metadata": {
    "collapsed": true
   },
   "outputs": [],
   "source": []
  },
  {
   "cell_type": "code",
   "execution_count": null,
   "metadata": {
    "collapsed": true
   },
   "outputs": [],
   "source": [
    "#list of documents where this term occured "
   ]
  }
 ],
 "metadata": {
  "kernelspec": {
   "display_name": "Python 3",
   "language": "python",
   "name": "python3"
  },
  "language_info": {
   "codemirror_mode": {
    "name": "ipython",
    "version": 3
   },
   "file_extension": ".py",
   "mimetype": "text/x-python",
   "name": "python",
   "nbconvert_exporter": "python",
   "pygments_lexer": "ipython3",
   "version": "3.6.1"
  }
 },
 "nbformat": 4,
 "nbformat_minor": 2
}
